{
  "nbformat": 4,
  "nbformat_minor": 0,
  "metadata": {
    "kernelspec": {
      "name": "python3",
      "display_name": "Python 3"
    },
    "colab": {
      "name": "Exercises.ipynb",
      "provenance": [],
      "include_colab_link": true
    }
  },
  "cells": [
    {
      "cell_type": "markdown",
      "metadata": {
        "id": "view-in-github",
        "colab_type": "text"
      },
      "source": [
        "<a href=\"https://colab.research.google.com/github/saipavansiddarth/pandas_exercises/blob/master/09_Time_Series/Getting_Financial_Data/Exercises.ipynb\" target=\"_parent\"><img src=\"https://colab.research.google.com/assets/colab-badge.svg\" alt=\"Open In Colab\"/></a>"
      ]
    },
    {
      "cell_type": "markdown",
      "metadata": {
        "id": "_dpIfOHBb3fb",
        "colab_type": "text"
      },
      "source": [
        "# Getting Financial Data - Google Finance"
      ]
    },
    {
      "cell_type": "markdown",
      "metadata": {
        "id": "sFNuxP1Ab3fe",
        "colab_type": "text"
      },
      "source": [
        "### Introduction:\n",
        "\n",
        "This time you will get data from a website.\n",
        "\n",
        "\n",
        "### Step 1. Import the necessary libraries"
      ]
    },
    {
      "cell_type": "code",
      "metadata": {
        "id": "qFZuZGVKb3ff",
        "colab_type": "code",
        "colab": {}
      },
      "source": [
        "import pandas as pd\n",
        "\n",
        "# package to extract data from various Internet sources into a DataFrame\n",
        "# make sure you have it installed\n",
        "from pandas_datareader import data, wb\n",
        "\n",
        "# package for dates\n",
        "import datetime as dt"
      ],
      "execution_count": 0,
      "outputs": []
    },
    {
      "cell_type": "markdown",
      "metadata": {
        "id": "Arm7oI_yb3fj",
        "colab_type": "text"
      },
      "source": [
        "### Step 2. Create your time range (start and end variables). The start date should be 01/01/2015 and the end should today (whatever your today is)"
      ]
    },
    {
      "cell_type": "code",
      "metadata": {
        "id": "1mIUeSnOb3fk",
        "colab_type": "code",
        "outputId": "50c82491-7b7b-408d-b502-139cc688ba55",
        "colab": {
          "base_uri": "https://localhost:8080/",
          "height": 34
        }
      },
      "source": [
        "start = dt.datetime(2015, 1, 1)\n",
        "\n",
        "end = dt.datetime.today()\n",
        "\n",
        "start"
      ],
      "execution_count": 23,
      "outputs": [
        {
          "output_type": "execute_result",
          "data": {
            "text/plain": [
              "datetime.datetime(2015, 1, 1, 0, 0)"
            ]
          },
          "metadata": {
            "tags": []
          },
          "execution_count": 23
        }
      ]
    },
    {
      "cell_type": "markdown",
      "metadata": {
        "id": "Blm0_XZab3fo",
        "colab_type": "text"
      },
      "source": [
        "### Step 3. Select the Apple, Tesla, Twitter, IBM, LinkedIn stocks symbols and assign them to a variable called stocks"
      ]
    },
    {
      "cell_type": "code",
      "metadata": {
        "id": "3AiBIac5b3fp",
        "colab_type": "code",
        "colab": {}
      },
      "source": [
        "stocks = ['AAPL', 'TSLA', 'IBM', 'LNKD']"
      ],
      "execution_count": 0,
      "outputs": []
    },
    {
      "cell_type": "markdown",
      "metadata": {
        "id": "-Vdfd-ZHb3fs",
        "colab_type": "text"
      },
      "source": [
        "### Step 4. Read the data from google, assign to df and print it"
      ]
    },
    {
      "cell_type": "code",
      "metadata": {
        "colab_type": "code",
        "id": "nSGUYCz82JQ9",
        "colab": {}
      },
      "source": [
        "df = web.DataReader(stocks, 'google', start, end)\n",
        "df"
      ],
      "execution_count": 0,
      "outputs": []
    },
    {
      "cell_type": "markdown",
      "metadata": {
        "id": "EtM73Ty0b3fv",
        "colab_type": "text"
      },
      "source": [
        "### Step 5.  What is the type of structure of df ?"
      ]
    },
    {
      "cell_type": "code",
      "metadata": {
        "id": "-kpZ2026b3fw",
        "colab_type": "code",
        "colab": {}
      },
      "source": [
        "# 'pandas.core.panel.Panel'"
      ],
      "execution_count": 0,
      "outputs": []
    },
    {
      "cell_type": "markdown",
      "metadata": {
        "id": "xD2D51Qtb3fz",
        "colab_type": "text"
      },
      "source": [
        "### Step 6. Print all the Items axis values\n",
        "#### To learn more about the Panel structure go to [documentation](http://pandas.pydata.org/pandas-docs/stable/dsintro.html#panel) "
      ]
    },
    {
      "cell_type": "code",
      "metadata": {
        "id": "MHLL9sBfb3fz",
        "colab_type": "code",
        "colab": {}
      },
      "source": [
        "df.items"
      ],
      "execution_count": 0,
      "outputs": []
    },
    {
      "cell_type": "markdown",
      "metadata": {
        "id": "Zjw6UtRFb3f2",
        "colab_type": "text"
      },
      "source": [
        "### Step 7. Good, now we know  the data avaiable. Create a dataFrame called vol, with the Volume values."
      ]
    },
    {
      "cell_type": "code",
      "metadata": {
        "id": "1uw_Gmagb3f3",
        "colab_type": "code",
        "colab": {}
      },
      "source": [
        "vol = df['Volume']\n",
        "vol.head()"
      ],
      "execution_count": 0,
      "outputs": []
    },
    {
      "cell_type": "markdown",
      "metadata": {
        "id": "KUedBhLWb3f6",
        "colab_type": "text"
      },
      "source": [
        "### Step 8. Aggregate the data of Volume to weekly\n",
        "#### Hint: Be careful to not sum data from the same week of 2015 and other years."
      ]
    },
    {
      "cell_type": "code",
      "metadata": {
        "scrolled": true,
        "id": "0nvM5ulIb3f7",
        "colab_type": "code",
        "colab": {}
      },
      "source": [
        "vol['week'] = vol.index.week\n",
        "vol['year'] = vol.index.year\n",
        "\n",
        "week = vol.groupby(['week','year']).sum()\n",
        "week.head()"
      ],
      "execution_count": 0,
      "outputs": []
    },
    {
      "cell_type": "markdown",
      "metadata": {
        "id": "xOhZpr03b3f9",
        "colab_type": "text"
      },
      "source": [
        "### Step 9. Find all the volume traded in the year of 2015"
      ]
    },
    {
      "cell_type": "code",
      "metadata": {
        "id": "FsDmES4-b3f-",
        "colab_type": "code",
        "colab": {}
      },
      "source": [
        "del vol['week']\n",
        "vol['year'] = vol.index.year\n",
        "\n",
        "year = vol.groupby(['year']).sum()\n",
        "year"
      ],
      "execution_count": 0,
      "outputs": []
    },
    {
      "cell_type": "markdown",
      "metadata": {
        "id": "FfKvsuCib3gA",
        "colab_type": "text"
      },
      "source": [
        "### BONUS: Create your own question and answer it."
      ]
    },
    {
      "cell_type": "code",
      "metadata": {
        "id": "4dqA2OoKb3gB",
        "colab_type": "code",
        "colab": {}
      },
      "source": [
        ""
      ],
      "execution_count": 0,
      "outputs": []
    }
  ]
}