{
  "nbformat": 4,
  "nbformat_minor": 0,
  "metadata": {
    "kernelspec": {
      "name": "python3",
      "display_name": "Python 3"
    },
    "colab": {
      "name": "Exercise.ipynb",
      "provenance": [],
      "include_colab_link": true
    }
  },
  "cells": [
    {
      "cell_type": "markdown",
      "metadata": {
        "id": "view-in-github",
        "colab_type": "text"
      },
      "source": [
        "<a href=\"https://colab.research.google.com/github/saipavansiddarth/pandas_exercises/blob/master/03_Grouping/Alcohol_Consumption/Exercise.ipynb\" target=\"_parent\"><img src=\"https://colab.research.google.com/assets/colab-badge.svg\" alt=\"Open In Colab\"/></a>"
      ]
    },
    {
      "cell_type": "markdown",
      "metadata": {
        "id": "wDWjMhLQqgCh",
        "colab_type": "text"
      },
      "source": [
        "# Ex - GroupBy"
      ]
    },
    {
      "cell_type": "markdown",
      "metadata": {
        "id": "biEEX1SBqgCq",
        "colab_type": "text"
      },
      "source": [
        "### Introduction:\n",
        "\n",
        "GroupBy can be summarizes as Split-Apply-Combine.\n",
        "\n",
        "Special thanks to: https://github.com/justmarkham for sharing the dataset and materials.\n",
        "\n",
        "Check out this [Diagram](http://i.imgur.com/yjNkiwL.png)  \n",
        "### Step 1. Import the necessary libraries"
      ]
    },
    {
      "cell_type": "code",
      "metadata": {
        "id": "FreJuh7-qgCt",
        "colab_type": "code",
        "colab": {}
      },
      "source": [
        "import pandas as pd"
      ],
      "execution_count": 0,
      "outputs": []
    },
    {
      "cell_type": "markdown",
      "metadata": {
        "id": "qFmm5WxeqgC2",
        "colab_type": "text"
      },
      "source": [
        "### Step 2. Import the dataset from this [address](https://raw.githubusercontent.com/justmarkham/DAT8/master/data/drinks.csv). "
      ]
    },
    {
      "cell_type": "markdown",
      "metadata": {
        "id": "jO1y_EZRqgC3",
        "colab_type": "text"
      },
      "source": [
        "### Step 3. Assign it to a variable called drinks."
      ]
    },
    {
      "cell_type": "code",
      "metadata": {
        "id": "ABlcB12SqgC5",
        "colab_type": "code",
        "colab": {
          "base_uri": "https://localhost:8080/",
          "height": 204
        },
        "outputId": "a7bf01c2-d12f-4696-cea4-c7fbf682388e"
      },
      "source": [
        "drinks = pd.read_csv('https://raw.githubusercontent.com/justmarkham/DAT8/master/data/drinks.csv',sep=',')\n",
        "drinks.head()"
      ],
      "execution_count": 4,
      "outputs": [
        {
          "output_type": "execute_result",
          "data": {
            "text/html": [
              "<div>\n",
              "<style scoped>\n",
              "    .dataframe tbody tr th:only-of-type {\n",
              "        vertical-align: middle;\n",
              "    }\n",
              "\n",
              "    .dataframe tbody tr th {\n",
              "        vertical-align: top;\n",
              "    }\n",
              "\n",
              "    .dataframe thead th {\n",
              "        text-align: right;\n",
              "    }\n",
              "</style>\n",
              "<table border=\"1\" class=\"dataframe\">\n",
              "  <thead>\n",
              "    <tr style=\"text-align: right;\">\n",
              "      <th></th>\n",
              "      <th>country</th>\n",
              "      <th>beer_servings</th>\n",
              "      <th>spirit_servings</th>\n",
              "      <th>wine_servings</th>\n",
              "      <th>total_litres_of_pure_alcohol</th>\n",
              "      <th>continent</th>\n",
              "    </tr>\n",
              "  </thead>\n",
              "  <tbody>\n",
              "    <tr>\n",
              "      <th>0</th>\n",
              "      <td>Afghanistan</td>\n",
              "      <td>0</td>\n",
              "      <td>0</td>\n",
              "      <td>0</td>\n",
              "      <td>0.0</td>\n",
              "      <td>AS</td>\n",
              "    </tr>\n",
              "    <tr>\n",
              "      <th>1</th>\n",
              "      <td>Albania</td>\n",
              "      <td>89</td>\n",
              "      <td>132</td>\n",
              "      <td>54</td>\n",
              "      <td>4.9</td>\n",
              "      <td>EU</td>\n",
              "    </tr>\n",
              "    <tr>\n",
              "      <th>2</th>\n",
              "      <td>Algeria</td>\n",
              "      <td>25</td>\n",
              "      <td>0</td>\n",
              "      <td>14</td>\n",
              "      <td>0.7</td>\n",
              "      <td>AF</td>\n",
              "    </tr>\n",
              "    <tr>\n",
              "      <th>3</th>\n",
              "      <td>Andorra</td>\n",
              "      <td>245</td>\n",
              "      <td>138</td>\n",
              "      <td>312</td>\n",
              "      <td>12.4</td>\n",
              "      <td>EU</td>\n",
              "    </tr>\n",
              "    <tr>\n",
              "      <th>4</th>\n",
              "      <td>Angola</td>\n",
              "      <td>217</td>\n",
              "      <td>57</td>\n",
              "      <td>45</td>\n",
              "      <td>5.9</td>\n",
              "      <td>AF</td>\n",
              "    </tr>\n",
              "  </tbody>\n",
              "</table>\n",
              "</div>"
            ],
            "text/plain": [
              "       country  beer_servings  ...  total_litres_of_pure_alcohol  continent\n",
              "0  Afghanistan              0  ...                           0.0         AS\n",
              "1      Albania             89  ...                           4.9         EU\n",
              "2      Algeria             25  ...                           0.7         AF\n",
              "3      Andorra            245  ...                          12.4         EU\n",
              "4       Angola            217  ...                           5.9         AF\n",
              "\n",
              "[5 rows x 6 columns]"
            ]
          },
          "metadata": {
            "tags": []
          },
          "execution_count": 4
        }
      ]
    },
    {
      "cell_type": "markdown",
      "metadata": {
        "id": "nsMletMqqgC9",
        "colab_type": "text"
      },
      "source": [
        "### Step 4. Which continent drinks more beer on average?"
      ]
    },
    {
      "cell_type": "code",
      "metadata": {
        "id": "LoydYzaQqgC-",
        "colab_type": "code",
        "colab": {
          "base_uri": "https://localhost:8080/",
          "height": 136
        },
        "outputId": "0de7c496-dbd0-48ff-ddbb-8b59c6dc5029"
      },
      "source": [
        "drinks.groupby('continent').beer_servings.mean()"
      ],
      "execution_count": 6,
      "outputs": [
        {
          "output_type": "execute_result",
          "data": {
            "text/plain": [
              "continent\n",
              "AF     61.471698\n",
              "AS     37.045455\n",
              "EU    193.777778\n",
              "OC     89.687500\n",
              "SA    175.083333\n",
              "Name: beer_servings, dtype: float64"
            ]
          },
          "metadata": {
            "tags": []
          },
          "execution_count": 6
        }
      ]
    },
    {
      "cell_type": "markdown",
      "metadata": {
        "id": "k1VL3hiAqgDC",
        "colab_type": "text"
      },
      "source": [
        "### Step 5. For each continent print the statistics for wine consumption."
      ]
    },
    {
      "cell_type": "code",
      "metadata": {
        "id": "cVaXz3tEqgDD",
        "colab_type": "code",
        "colab": {
          "base_uri": "https://localhost:8080/",
          "height": 235
        },
        "outputId": "a90ec3b1-4d76-4b9c-dc1d-20fa26fa68fb"
      },
      "source": [
        "drinks.groupby('continent').wine_servings.describe()"
      ],
      "execution_count": 7,
      "outputs": [
        {
          "output_type": "execute_result",
          "data": {
            "text/html": [
              "<div>\n",
              "<style scoped>\n",
              "    .dataframe tbody tr th:only-of-type {\n",
              "        vertical-align: middle;\n",
              "    }\n",
              "\n",
              "    .dataframe tbody tr th {\n",
              "        vertical-align: top;\n",
              "    }\n",
              "\n",
              "    .dataframe thead th {\n",
              "        text-align: right;\n",
              "    }\n",
              "</style>\n",
              "<table border=\"1\" class=\"dataframe\">\n",
              "  <thead>\n",
              "    <tr style=\"text-align: right;\">\n",
              "      <th></th>\n",
              "      <th>count</th>\n",
              "      <th>mean</th>\n",
              "      <th>std</th>\n",
              "      <th>min</th>\n",
              "      <th>25%</th>\n",
              "      <th>50%</th>\n",
              "      <th>75%</th>\n",
              "      <th>max</th>\n",
              "    </tr>\n",
              "    <tr>\n",
              "      <th>continent</th>\n",
              "      <th></th>\n",
              "      <th></th>\n",
              "      <th></th>\n",
              "      <th></th>\n",
              "      <th></th>\n",
              "      <th></th>\n",
              "      <th></th>\n",
              "      <th></th>\n",
              "    </tr>\n",
              "  </thead>\n",
              "  <tbody>\n",
              "    <tr>\n",
              "      <th>AF</th>\n",
              "      <td>53.0</td>\n",
              "      <td>16.264151</td>\n",
              "      <td>38.846419</td>\n",
              "      <td>0.0</td>\n",
              "      <td>1.0</td>\n",
              "      <td>2.0</td>\n",
              "      <td>13.00</td>\n",
              "      <td>233.0</td>\n",
              "    </tr>\n",
              "    <tr>\n",
              "      <th>AS</th>\n",
              "      <td>44.0</td>\n",
              "      <td>9.068182</td>\n",
              "      <td>21.667034</td>\n",
              "      <td>0.0</td>\n",
              "      <td>0.0</td>\n",
              "      <td>1.0</td>\n",
              "      <td>8.00</td>\n",
              "      <td>123.0</td>\n",
              "    </tr>\n",
              "    <tr>\n",
              "      <th>EU</th>\n",
              "      <td>45.0</td>\n",
              "      <td>142.222222</td>\n",
              "      <td>97.421738</td>\n",
              "      <td>0.0</td>\n",
              "      <td>59.0</td>\n",
              "      <td>128.0</td>\n",
              "      <td>195.00</td>\n",
              "      <td>370.0</td>\n",
              "    </tr>\n",
              "    <tr>\n",
              "      <th>OC</th>\n",
              "      <td>16.0</td>\n",
              "      <td>35.625000</td>\n",
              "      <td>64.555790</td>\n",
              "      <td>0.0</td>\n",
              "      <td>1.0</td>\n",
              "      <td>8.5</td>\n",
              "      <td>23.25</td>\n",
              "      <td>212.0</td>\n",
              "    </tr>\n",
              "    <tr>\n",
              "      <th>SA</th>\n",
              "      <td>12.0</td>\n",
              "      <td>62.416667</td>\n",
              "      <td>88.620189</td>\n",
              "      <td>1.0</td>\n",
              "      <td>3.0</td>\n",
              "      <td>12.0</td>\n",
              "      <td>98.50</td>\n",
              "      <td>221.0</td>\n",
              "    </tr>\n",
              "  </tbody>\n",
              "</table>\n",
              "</div>"
            ],
            "text/plain": [
              "           count        mean        std  min   25%    50%     75%    max\n",
              "continent                                                               \n",
              "AF          53.0   16.264151  38.846419  0.0   1.0    2.0   13.00  233.0\n",
              "AS          44.0    9.068182  21.667034  0.0   0.0    1.0    8.00  123.0\n",
              "EU          45.0  142.222222  97.421738  0.0  59.0  128.0  195.00  370.0\n",
              "OC          16.0   35.625000  64.555790  0.0   1.0    8.5   23.25  212.0\n",
              "SA          12.0   62.416667  88.620189  1.0   3.0   12.0   98.50  221.0"
            ]
          },
          "metadata": {
            "tags": []
          },
          "execution_count": 7
        }
      ]
    },
    {
      "cell_type": "markdown",
      "metadata": {
        "id": "f2XRU1XsqgDG",
        "colab_type": "text"
      },
      "source": [
        "### Step 6. Print the mean alcohol consumption per continent for every column"
      ]
    },
    {
      "cell_type": "code",
      "metadata": {
        "id": "Nx8p3Ub1qgDH",
        "colab_type": "code",
        "colab": {
          "base_uri": "https://localhost:8080/",
          "height": 235
        },
        "outputId": "b754907f-5f38-444b-9271-49a985c93185"
      },
      "source": [
        "drinks.groupby('continent').mean()"
      ],
      "execution_count": 9,
      "outputs": [
        {
          "output_type": "execute_result",
          "data": {
            "text/html": [
              "<div>\n",
              "<style scoped>\n",
              "    .dataframe tbody tr th:only-of-type {\n",
              "        vertical-align: middle;\n",
              "    }\n",
              "\n",
              "    .dataframe tbody tr th {\n",
              "        vertical-align: top;\n",
              "    }\n",
              "\n",
              "    .dataframe thead th {\n",
              "        text-align: right;\n",
              "    }\n",
              "</style>\n",
              "<table border=\"1\" class=\"dataframe\">\n",
              "  <thead>\n",
              "    <tr style=\"text-align: right;\">\n",
              "      <th></th>\n",
              "      <th>beer_servings</th>\n",
              "      <th>spirit_servings</th>\n",
              "      <th>wine_servings</th>\n",
              "      <th>total_litres_of_pure_alcohol</th>\n",
              "    </tr>\n",
              "    <tr>\n",
              "      <th>continent</th>\n",
              "      <th></th>\n",
              "      <th></th>\n",
              "      <th></th>\n",
              "      <th></th>\n",
              "    </tr>\n",
              "  </thead>\n",
              "  <tbody>\n",
              "    <tr>\n",
              "      <th>AF</th>\n",
              "      <td>61.471698</td>\n",
              "      <td>16.339623</td>\n",
              "      <td>16.264151</td>\n",
              "      <td>3.007547</td>\n",
              "    </tr>\n",
              "    <tr>\n",
              "      <th>AS</th>\n",
              "      <td>37.045455</td>\n",
              "      <td>60.840909</td>\n",
              "      <td>9.068182</td>\n",
              "      <td>2.170455</td>\n",
              "    </tr>\n",
              "    <tr>\n",
              "      <th>EU</th>\n",
              "      <td>193.777778</td>\n",
              "      <td>132.555556</td>\n",
              "      <td>142.222222</td>\n",
              "      <td>8.617778</td>\n",
              "    </tr>\n",
              "    <tr>\n",
              "      <th>OC</th>\n",
              "      <td>89.687500</td>\n",
              "      <td>58.437500</td>\n",
              "      <td>35.625000</td>\n",
              "      <td>3.381250</td>\n",
              "    </tr>\n",
              "    <tr>\n",
              "      <th>SA</th>\n",
              "      <td>175.083333</td>\n",
              "      <td>114.750000</td>\n",
              "      <td>62.416667</td>\n",
              "      <td>6.308333</td>\n",
              "    </tr>\n",
              "  </tbody>\n",
              "</table>\n",
              "</div>"
            ],
            "text/plain": [
              "           beer_servings  ...  total_litres_of_pure_alcohol\n",
              "continent                 ...                              \n",
              "AF             61.471698  ...                      3.007547\n",
              "AS             37.045455  ...                      2.170455\n",
              "EU            193.777778  ...                      8.617778\n",
              "OC             89.687500  ...                      3.381250\n",
              "SA            175.083333  ...                      6.308333\n",
              "\n",
              "[5 rows x 4 columns]"
            ]
          },
          "metadata": {
            "tags": []
          },
          "execution_count": 9
        }
      ]
    },
    {
      "cell_type": "markdown",
      "metadata": {
        "id": "3eYW_CK0qgDL",
        "colab_type": "text"
      },
      "source": [
        "### Step 7. Print the median alcohol consumption per continent for every column"
      ]
    },
    {
      "cell_type": "code",
      "metadata": {
        "id": "_0DC29kxqgDM",
        "colab_type": "code",
        "colab": {
          "base_uri": "https://localhost:8080/",
          "height": 235
        },
        "outputId": "91256275-514f-4508-924f-99723ae824e9"
      },
      "source": [
        "drinks.groupby('continent').median()"
      ],
      "execution_count": 5,
      "outputs": [
        {
          "output_type": "execute_result",
          "data": {
            "text/html": [
              "<div>\n",
              "<style scoped>\n",
              "    .dataframe tbody tr th:only-of-type {\n",
              "        vertical-align: middle;\n",
              "    }\n",
              "\n",
              "    .dataframe tbody tr th {\n",
              "        vertical-align: top;\n",
              "    }\n",
              "\n",
              "    .dataframe thead th {\n",
              "        text-align: right;\n",
              "    }\n",
              "</style>\n",
              "<table border=\"1\" class=\"dataframe\">\n",
              "  <thead>\n",
              "    <tr style=\"text-align: right;\">\n",
              "      <th></th>\n",
              "      <th>beer_servings</th>\n",
              "      <th>spirit_servings</th>\n",
              "      <th>wine_servings</th>\n",
              "      <th>total_litres_of_pure_alcohol</th>\n",
              "    </tr>\n",
              "    <tr>\n",
              "      <th>continent</th>\n",
              "      <th></th>\n",
              "      <th></th>\n",
              "      <th></th>\n",
              "      <th></th>\n",
              "    </tr>\n",
              "  </thead>\n",
              "  <tbody>\n",
              "    <tr>\n",
              "      <th>AF</th>\n",
              "      <td>32.0</td>\n",
              "      <td>3.0</td>\n",
              "      <td>2.0</td>\n",
              "      <td>2.30</td>\n",
              "    </tr>\n",
              "    <tr>\n",
              "      <th>AS</th>\n",
              "      <td>17.5</td>\n",
              "      <td>16.0</td>\n",
              "      <td>1.0</td>\n",
              "      <td>1.20</td>\n",
              "    </tr>\n",
              "    <tr>\n",
              "      <th>EU</th>\n",
              "      <td>219.0</td>\n",
              "      <td>122.0</td>\n",
              "      <td>128.0</td>\n",
              "      <td>10.00</td>\n",
              "    </tr>\n",
              "    <tr>\n",
              "      <th>OC</th>\n",
              "      <td>52.5</td>\n",
              "      <td>37.0</td>\n",
              "      <td>8.5</td>\n",
              "      <td>1.75</td>\n",
              "    </tr>\n",
              "    <tr>\n",
              "      <th>SA</th>\n",
              "      <td>162.5</td>\n",
              "      <td>108.5</td>\n",
              "      <td>12.0</td>\n",
              "      <td>6.85</td>\n",
              "    </tr>\n",
              "  </tbody>\n",
              "</table>\n",
              "</div>"
            ],
            "text/plain": [
              "           beer_servings  ...  total_litres_of_pure_alcohol\n",
              "continent                 ...                              \n",
              "AF                  32.0  ...                          2.30\n",
              "AS                  17.5  ...                          1.20\n",
              "EU                 219.0  ...                         10.00\n",
              "OC                  52.5  ...                          1.75\n",
              "SA                 162.5  ...                          6.85\n",
              "\n",
              "[5 rows x 4 columns]"
            ]
          },
          "metadata": {
            "tags": []
          },
          "execution_count": 5
        }
      ]
    },
    {
      "cell_type": "markdown",
      "metadata": {
        "id": "Q8f0bfv1qgDR",
        "colab_type": "text"
      },
      "source": [
        "### Step 8. Print the mean, min and max values for spirit consumption.\n",
        "#### This time output a DataFrame"
      ]
    },
    {
      "cell_type": "code",
      "metadata": {
        "id": "shZyvhFmqgDS",
        "colab_type": "code",
        "colab": {
          "base_uri": "https://localhost:8080/",
          "height": 235
        },
        "outputId": "5998a566-0085-452a-f377-70a7b245c810"
      },
      "source": [
        "drinks.groupby('continent').spirit_servings.agg(['mean','min','max'])"
      ],
      "execution_count": 6,
      "outputs": [
        {
          "output_type": "execute_result",
          "data": {
            "text/html": [
              "<div>\n",
              "<style scoped>\n",
              "    .dataframe tbody tr th:only-of-type {\n",
              "        vertical-align: middle;\n",
              "    }\n",
              "\n",
              "    .dataframe tbody tr th {\n",
              "        vertical-align: top;\n",
              "    }\n",
              "\n",
              "    .dataframe thead th {\n",
              "        text-align: right;\n",
              "    }\n",
              "</style>\n",
              "<table border=\"1\" class=\"dataframe\">\n",
              "  <thead>\n",
              "    <tr style=\"text-align: right;\">\n",
              "      <th></th>\n",
              "      <th>mean</th>\n",
              "      <th>min</th>\n",
              "      <th>max</th>\n",
              "    </tr>\n",
              "    <tr>\n",
              "      <th>continent</th>\n",
              "      <th></th>\n",
              "      <th></th>\n",
              "      <th></th>\n",
              "    </tr>\n",
              "  </thead>\n",
              "  <tbody>\n",
              "    <tr>\n",
              "      <th>AF</th>\n",
              "      <td>16.339623</td>\n",
              "      <td>0</td>\n",
              "      <td>152</td>\n",
              "    </tr>\n",
              "    <tr>\n",
              "      <th>AS</th>\n",
              "      <td>60.840909</td>\n",
              "      <td>0</td>\n",
              "      <td>326</td>\n",
              "    </tr>\n",
              "    <tr>\n",
              "      <th>EU</th>\n",
              "      <td>132.555556</td>\n",
              "      <td>0</td>\n",
              "      <td>373</td>\n",
              "    </tr>\n",
              "    <tr>\n",
              "      <th>OC</th>\n",
              "      <td>58.437500</td>\n",
              "      <td>0</td>\n",
              "      <td>254</td>\n",
              "    </tr>\n",
              "    <tr>\n",
              "      <th>SA</th>\n",
              "      <td>114.750000</td>\n",
              "      <td>25</td>\n",
              "      <td>302</td>\n",
              "    </tr>\n",
              "  </tbody>\n",
              "</table>\n",
              "</div>"
            ],
            "text/plain": [
              "                 mean  min  max\n",
              "continent                      \n",
              "AF          16.339623    0  152\n",
              "AS          60.840909    0  326\n",
              "EU         132.555556    0  373\n",
              "OC          58.437500    0  254\n",
              "SA         114.750000   25  302"
            ]
          },
          "metadata": {
            "tags": []
          },
          "execution_count": 6
        }
      ]
    }
  ]
}